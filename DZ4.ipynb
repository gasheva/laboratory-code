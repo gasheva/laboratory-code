{
 "cells": [
  {
   "cell_type": "code",
   "execution_count": 8,
   "metadata": {},
   "outputs": [
    {
     "name": "stdout",
     "output_type": "stream",
     "text": [
      "2.5\n",
      "-1.0\n",
      "0.0\n"
     ]
    },
    {
     "ename": "ZeroArgsError",
     "evalue": "'В функцию не было передано аргументов'",
     "output_type": "error",
     "traceback": [
      "\u001b[1;31m---------------------------------------------------------------------------\u001b[0m",
      "\u001b[1;31mZeroArgsError\u001b[0m                             Traceback (most recent call last)",
      "\u001b[1;32m<ipython-input-8-31ebdabb0ad6>\u001b[0m in \u001b[0;36m<module>\u001b[1;34m\u001b[0m\n\u001b[0;32m     17\u001b[0m \u001b[0mprint\u001b[0m\u001b[1;33m(\u001b[0m\u001b[0maver\u001b[0m\u001b[1;33m(\u001b[0m\u001b[1;33m-\u001b[0m\u001b[1;36m1\u001b[0m\u001b[1;33m,\u001b[0m\u001b[1;33m-\u001b[0m\u001b[1;36m1\u001b[0m\u001b[1;33m)\u001b[0m\u001b[1;33m)\u001b[0m\u001b[1;33m\u001b[0m\u001b[1;33m\u001b[0m\u001b[0m\n\u001b[0;32m     18\u001b[0m \u001b[0mprint\u001b[0m\u001b[1;33m(\u001b[0m\u001b[0maver\u001b[0m\u001b[1;33m(\u001b[0m\u001b[1;36m0\u001b[0m\u001b[1;33m)\u001b[0m\u001b[1;33m)\u001b[0m\u001b[1;33m\u001b[0m\u001b[1;33m\u001b[0m\u001b[0m\n\u001b[1;32m---> 19\u001b[1;33m \u001b[0mprint\u001b[0m\u001b[1;33m(\u001b[0m\u001b[0maver\u001b[0m\u001b[1;33m(\u001b[0m\u001b[1;33m)\u001b[0m\u001b[1;33m)\u001b[0m\u001b[1;33m\u001b[0m\u001b[1;33m\u001b[0m\u001b[0m\n\u001b[0m",
      "\u001b[1;32m<ipython-input-8-31ebdabb0ad6>\u001b[0m in \u001b[0;36maver\u001b[1;34m(*nums)\u001b[0m\n\u001b[0;32m      9\u001b[0m \u001b[1;32mdef\u001b[0m \u001b[0maver\u001b[0m\u001b[1;33m(\u001b[0m\u001b[1;33m*\u001b[0m\u001b[0mnums\u001b[0m\u001b[1;33m)\u001b[0m\u001b[1;33m:\u001b[0m\u001b[1;33m\u001b[0m\u001b[1;33m\u001b[0m\u001b[0m\n\u001b[0;32m     10\u001b[0m     \u001b[1;32mif\u001b[0m \u001b[0mlen\u001b[0m\u001b[1;33m(\u001b[0m\u001b[0mnums\u001b[0m\u001b[1;33m)\u001b[0m\u001b[1;33m==\u001b[0m\u001b[1;36m0\u001b[0m\u001b[1;33m:\u001b[0m\u001b[1;33m\u001b[0m\u001b[1;33m\u001b[0m\u001b[0m\n\u001b[1;32m---> 11\u001b[1;33m         \u001b[1;32mraise\u001b[0m \u001b[0mZeroArgsError\u001b[0m\u001b[1;33m(\u001b[0m\u001b[1;34m\"В функцию не было передано аргументов\"\u001b[0m\u001b[1;33m)\u001b[0m\u001b[1;33m\u001b[0m\u001b[1;33m\u001b[0m\u001b[0m\n\u001b[0m\u001b[0;32m     12\u001b[0m     \u001b[0ms\u001b[0m\u001b[1;33m=\u001b[0m\u001b[1;36m0\u001b[0m\u001b[1;33m\u001b[0m\u001b[1;33m\u001b[0m\u001b[0m\n\u001b[0;32m     13\u001b[0m     \u001b[1;32mfor\u001b[0m \u001b[0mi\u001b[0m \u001b[1;32min\u001b[0m \u001b[0mnums\u001b[0m\u001b[1;33m:\u001b[0m\u001b[1;33m\u001b[0m\u001b[1;33m\u001b[0m\u001b[0m\n",
      "\u001b[1;31mZeroArgsError\u001b[0m: 'В функцию не было передано аргументов'"
     ]
    }
   ],
   "source": [
    "#Задание 1\n",
    "class ZeroArgsError(Exception):\n",
    "    def __init__(self, value):\n",
    "        self.value = value\n",
    "    def __str__(self):\n",
    "        return(repr(self.value))\n",
    "\n",
    "\n",
    "def aver(*nums):\n",
    "    if len(nums)==0:\n",
    "        raise ZeroArgsError(\"В функцию не было передано аргументов\")\n",
    "    s=0\n",
    "    for i in nums:\n",
    "        s+=i\n",
    "    return (s/len(nums))\n",
    "print(aver(1,2,3,4))\n",
    "print(aver(-1,-1))\n",
    "print(aver(0))\n",
    "print(aver())"
   ]
  },
  {
   "cell_type": "code",
   "execution_count": 36,
   "metadata": {},
   "outputs": [
    {
     "name": "stdout",
     "output_type": "stream",
     "text": [
      "Moscow - Russia\n",
      "London - Britain\n"
     ]
    }
   ],
   "source": [
    "#Задание 2\n",
    "def printDict(**kwargs):\n",
    "    for i in kwargs.keys():\n",
    "        print(str(i)+\" - \"+str(kwargs.get(i)))\n",
    "    \n",
    "printDict(Moscow=\"Russia\",London=\"Britain\")\n"
   ]
  },
  {
   "cell_type": "code",
   "execution_count": 43,
   "metadata": {},
   "outputs": [
    {
     "name": "stdout",
     "output_type": "stream",
     "text": [
      "1.0\n",
      "Была вызвана функция ZeroExc\n",
      "Деление на 0\n",
      "Была вызвана функция ZeroExc\n",
      "1.0\n",
      "Была вызвана функция ZeroExc2\n",
      "Деление на 0\n"
     ]
    }
   ],
   "source": [
    "#Задание 3\n",
    "def ZeroExc(num):\n",
    "    try:\n",
    "        print(5/num)\n",
    "    except ZeroDivisionError:\n",
    "        print(\"Деление на 0\")\n",
    "    finally:\n",
    "        print(\"Была вызвана функция ZeroExc\")\n",
    "#разница между finally и else заключается в том, что finally выполняется в любом случае, а else только тогда\n",
    "#когда в блоке try не возникло ошибки\n",
    "def ZeroExc2(num):\n",
    "    try:\n",
    "        print(5/num)\n",
    "    except ZeroDivisionError:\n",
    "        print(\"Деление на 0\")\n",
    "    else:\n",
    "        print(\"Была вызвана функция ZeroExc2\")\n",
    "        \n",
    "ZeroExc(5)\n",
    "ZeroExc(0)\n",
    "\n",
    "ZeroExc2(5)\n",
    "ZeroExc2(0)"
   ]
  },
  {
   "cell_type": "code",
   "execution_count": 19,
   "metadata": {},
   "outputs": [
    {
     "name": "stdout",
     "output_type": "stream",
     "text": [
      "[5, 6, 7, 1, 2, 3, 4]\n",
      "[1, 2, 3, 4, 5, 6, 7]\n",
      "[1, 2, 3, 4, 5, 6, 7]\n",
      "[7, 1, 2, 3, 4, 5, 6]\n"
     ]
    }
   ],
   "source": [
    "#Задание 4\n",
    "def swap(a,b): \n",
    "    a=a+b\n",
    "    b=a-b\n",
    "    a=a-b\n",
    "    return a,b\n",
    "\n",
    "def shiftArr(arr, shift):\n",
    "    x=0\n",
    "    y=0\n",
    "    for i in range(shift):\n",
    "        for j in range(1, len(nums)):\n",
    "            nums[-j],nums[-j+1]=swap(nums[-j],nums[-j+1])\n",
    "        \n",
    "nums=[1,2,3,4,5,6,7]\n",
    "k=3\n",
    "shiftArr(nums, k)\n",
    "print(nums)\n",
    "\n",
    "nums=[1,2,3,4,5,6,7]\n",
    "k=0\n",
    "shiftArr(nums, k)\n",
    "print(nums)\n",
    "\n",
    "nums=[1,2,3,4,5,6,7]\n",
    "k=7\n",
    "shiftArr(nums, k)\n",
    "print(nums)\n",
    "\n",
    "nums=[1,2,3,4,5,6,7]\n",
    "k=8\n",
    "shiftArr(nums, k)\n",
    "print(nums)\n"
   ]
  },
  {
   "cell_type": "code",
   "execution_count": 52,
   "metadata": {},
   "outputs": [
    {
     "name": "stdout",
     "output_type": "stream",
     "text": [
      "[1, 2, 3, 1, 0, 0, 0]\n",
      "[1, 2, 3, 1, 0]\n",
      "[1, 2, 3, 1, 0, 0, 0]\n",
      "[1, 2, 3, 1, 0, 0]\n",
      "[1, 2, 3, 1, 0]\n"
     ]
    }
   ],
   "source": [
    "#Задание 5\n",
    "def ZeroShift(arr):\n",
    "    i=0\n",
    "    end_index=len(arr)-1\n",
    "    while i<end_index:\n",
    "        if arr[i]==0:\n",
    "            end_index-=1\n",
    "            for j in range(i,(len(arr)-1)):\n",
    "                arr[j],arr[j+1]=swap(arr[j],arr[j+1])\n",
    "        if arr[i]==0:\n",
    "            continue\n",
    "        else:\n",
    "            i+=1\n",
    "        \n",
    "                           \n",
    "nums=[1,2,0,0,3,1,0]\n",
    "ZeroShift(nums)\n",
    "print(nums)\n",
    "\n",
    "nums=[1,2,0,3,1]\n",
    "ZeroShift(nums)\n",
    "print(nums)\n",
    "\n",
    "nums=[1,2,0,0,0,3,1]\n",
    "ZeroShift(nums)\n",
    "print(nums)\n",
    "\n",
    "nums=[1,2,0,3,1,0]\n",
    "ZeroShift(nums)\n",
    "print(nums)\n",
    "\n",
    "nums=[1,2,3,1,0]\n",
    "ZeroShift(nums)\n",
    "print(nums)\n"
   ]
  },
  {
   "cell_type": "code",
   "execution_count": null,
   "metadata": {},
   "outputs": [],
   "source": []
  }
 ],
 "metadata": {
  "kernelspec": {
   "display_name": "Python 3",
   "language": "python",
   "name": "python3"
  },
  "language_info": {
   "codemirror_mode": {
    "name": "ipython",
    "version": 3
   },
   "file_extension": ".py",
   "mimetype": "text/x-python",
   "name": "python",
   "nbconvert_exporter": "python",
   "pygments_lexer": "ipython3",
   "version": "3.7.6"
  }
 },
 "nbformat": 4,
 "nbformat_minor": 4
}
