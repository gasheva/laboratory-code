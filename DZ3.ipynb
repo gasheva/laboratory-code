{
 "cells": [
  {
   "cell_type": "code",
   "execution_count": 6,
   "metadata": {},
   "outputs": [
    {
     "name": "stdout",
     "output_type": "stream",
     "text": [
      "6\n"
     ]
    }
   ],
   "source": [
    "#Задание 1\n",
    "nums=[-2,1,-3,4,-1,2,1,-5,4]\n",
    "s=nums[0]\n",
    "max=s\n",
    "i=1\n",
    "while i<len(nums):\n",
    "    s+=nums[i]\n",
    "    if max<s:\n",
    "        max=s\n",
    "    if s<0:\n",
    "        s=0\n",
    "    i+=1\n",
    "print(max)"
   ]
  },
  {
   "cell_type": "code",
   "execution_count": 73,
   "metadata": {},
   "outputs": [
    {
     "name": "stdout",
     "output_type": "stream",
     "text": [
      "[(1, 0), (2, 1), (3, 0), (6, 1), (8, 2), (10, 2), (15, 3), (18, 3)]\n",
      "[[1, 6], [8, 10], [15, 18]]\n"
     ]
    }
   ],
   "source": [
    "#Задание 2\n",
    "list1=[[1,3],[2,6],[8,10],[15,18]]\n",
    "#list1=[[0,5],[2,4],[3,10],[20,30],[1,25]]\n",
    "#list1=[[0,5],[20,30],[0,90]]\n",
    "list2=list()\n",
    "result_list=list()\n",
    "for i in range(len(list1)):\n",
    "    list2.append((list1[i][0], i))\n",
    "    list2.append((list1[i][1], i))\n",
    "list2.sort()\n",
    "i=0\n",
    "#индексы\n",
    "right_board_ind=0\n",
    "left_board_ind=0\n",
    "#значения\n",
    "right_board=0\n",
    "left_board=0\n",
    "change_now=False\n",
    "#result_list.append([list2[0][0],-1])\n",
    "#идем по списку\n",
    "while i<(len(list2)-1):\n",
    "    #встреченный элемент считаем левой границей\n",
    "    left_board_ind=list2[i][1]\n",
    "    left_board=list2[i][0]\n",
    "    #считаем, что правая граница нового мн-ва совпадает со старым\n",
    "    right_board=list1[left_board_ind][1]\n",
    "    j=i\n",
    "    #ищем правую границу множества\n",
    "    while True:\n",
    "        change_now=False\n",
    "        j+=1\n",
    "        right_board_ind=list2[j][1]\n",
    "        #проверяем правую границу пересекаемых\\входящих множеств\n",
    "        #находим максимальную правую границу\n",
    "        if list1[right_board_ind][1]>right_board:\n",
    "            if left_board_ind!=right_board_ind:\n",
    "                left_board_ind=right_board_ind\n",
    "                change_now=True\n",
    "            right_board=list1[right_board_ind][1]\n",
    "            \n",
    "            #print(right_board)\n",
    "        #условие выхода из вложенного цикла\n",
    "        if (right_board_ind==left_board_ind and not change_now) or j>=(len(list2)-1):\n",
    "            break\n",
    "    #если нашли границу, то добавляем новое мн-во в результат\n",
    "    if right_board_ind==left_board_ind:\n",
    "        result_list.append([left_board, right_board])    \n",
    "        #переходим к следующему эл-ту\n",
    "        i=j+1\n",
    "    else:\n",
    "        i+=1\n",
    "        \n",
    "print(list2)\n",
    "print(result_list)"
   ]
  },
  {
   "cell_type": "code",
   "execution_count": null,
   "metadata": {},
   "outputs": [],
   "source": []
  }
 ],
 "metadata": {
  "kernelspec": {
   "display_name": "Python 3",
   "language": "python",
   "name": "python3"
  },
  "language_info": {
   "codemirror_mode": {
    "name": "ipython",
    "version": 3
   },
   "file_extension": ".py",
   "mimetype": "text/x-python",
   "name": "python",
   "nbconvert_exporter": "python",
   "pygments_lexer": "ipython3",
   "version": "3.7.6"
  }
 },
 "nbformat": 4,
 "nbformat_minor": 4
}
