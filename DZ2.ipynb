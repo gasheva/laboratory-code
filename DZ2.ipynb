{
 "cells": [
  {
   "cell_type": "code",
   "execution_count": 2,
   "metadata": {},
   "outputs": [
    {
     "name": "stdout",
     "output_type": "stream",
     "text": [
      "a=3\n",
      "b=5\n",
      "a id=140729028682192\n",
      "b id=140729028682256\n"
     ]
    }
   ],
   "source": [
    "#Задание 1\n",
    "a=3\n",
    "b=5\n",
    "print(\"a=\"+str(a))\n",
    "print(\"b=\"+str(b))\n",
    "print(\"a id=\"+str(id(a)))\n",
    "print(\"b id=\"+str(id(b)))\n"
   ]
  },
  {
   "cell_type": "code",
   "execution_count": 5,
   "metadata": {},
   "outputs": [
    {
     "name": "stdout",
     "output_type": "stream",
     "text": [
      "a id=140729028682256\n",
      "b id=140729028682256\n",
      "a=10\n",
      "b=5\n",
      "a id=140729028682416\n",
      "b id=140729028682256\n"
     ]
    }
   ],
   "source": [
    "#Теперь обе переменные (a и b) ссылаются на один объект (5) (id одинаковы)\n",
    "a=b\n",
    "print(\"a id=\"+str(id(a)))\n",
    "print(\"b id=\"+str(id(b)))\n",
    "#Создается объект 10 и переменная а ссылается на этот объект (изменился id у а)\n",
    "a=10\n",
    "print(\"a=\"+str(a))\n",
    "print(\"b=\"+str(b))\n",
    "print(\"a id=\"+str(id(a)))\n",
    "print(\"b id=\"+str(id(b)))"
   ]
  },
  {
   "cell_type": "code",
   "execution_count": 10,
   "metadata": {},
   "outputs": [
    {
     "name": "stdout",
     "output_type": "stream",
     "text": [
      "list id=995465765192\n",
      "elements:\n",
      "[1, 2]\n"
     ]
    }
   ],
   "source": [
    "#Задание 2\n",
    "list1 = [1,2]\n",
    "print (\"list id=\"+str(id(list1)))\n",
    "print (\"elements:\")\n",
    "print (list1)"
   ]
  },
  {
   "cell_type": "code",
   "execution_count": 13,
   "metadata": {},
   "outputs": [
    {
     "name": "stdout",
     "output_type": "stream",
     "text": [
      "list2 id=995465765192\n",
      "elements of list2:\n",
      "[1, 2]\n",
      "list1 id=995465765192\n",
      "elements of list1:\n",
      "[1, 2]\n",
      "list2 id=995465765192\n",
      "elements of list2:\n",
      "[1, 10]\n",
      "list1 id=995465765192\n",
      "elements of list1:\n",
      "[1, 10]\n"
     ]
    }
   ],
   "source": [
    "#переменная list2 ссылается на ту же область памяти, что и list1\n",
    "list2 = list1\n",
    "print (\"list2 id=\"+str(id(list2)))\n",
    "print (\"elements of list2:\")\n",
    "print(list2)\n",
    "print (\"list1 id=\"+str(id(list1)))\n",
    "print (\"elements of list1:\")\n",
    "print(list1)\n",
    "\n",
    "#изменяем второй элемент массива list2\n",
    "#создается новый объект (10) и изменяется ссылка на второй элемент (в массиве хранятся не объекты, а ссылки на них)\n",
    "#поскольку переменные list1 и list2 ссылаются на один и тот же массив ссылок (который был изменен), \n",
    "#то и второй элемент массива list1 стал 10\n",
    "list2[1]=10\n",
    "print (\"list2 id=\"+str(id(list2)))\n",
    "print (\"elements of list2:\")\n",
    "print(list2)\n",
    "print (\"list1 id=\"+str(id(list1)))\n",
    "print (\"elements of list1:\")\n",
    "print(list1)"
   ]
  },
  {
   "cell_type": "code",
   "execution_count": 14,
   "metadata": {},
   "outputs": [
    {
     "name": "stdout",
     "output_type": "stream",
     "text": [
      "x+y=7\n",
      "x-y=3\n",
      "x*y=10\n",
      "x/y=2.5\n",
      "x//y=2\n",
      "x%y=1\n",
      "x**y=25\n"
     ]
    }
   ],
   "source": [
    "#Задание 3\n",
    "x=5\n",
    "y=2\n",
    "print(\"x+y=\"+str(x+y))\n",
    "print(\"x-y=\"+str(x-y))\n",
    "print(\"x*y=\"+str(x*y))\n",
    "print(\"x/y=\"+str(x/y))\n",
    "print(\"x//y=\"+str(x//y))\n",
    "print(\"x%y=\"+str(x%y))\n",
    "print(\"x**y=\"+str(x**y))"
   ]
  },
  {
   "cell_type": "code",
   "execution_count": 15,
   "metadata": {},
   "outputs": [
    {
     "name": "stdout",
     "output_type": "stream",
     "text": [
      "x&y=0\n",
      "x|y=7\n"
     ]
    }
   ],
   "source": [
    "#Задание 4\n",
    "x=5\n",
    "y=2\n",
    "#x в двоичной системе будет 101, y=10\n",
    "#при побитовом И получаем 000 (1&0=0, 0&0=0, 1&1=1), что в десятичной системе будет 0\n",
    "print(\"x&y=\"+str(x&y))\n",
    "#при побитовом ИЛИ получаем 111 (1|0=1, 0|0=0, 1|1=1), что в десятичной системе будет 7\n",
    "print(\"x|y=\"+str(x|y))"
   ]
  },
  {
   "cell_type": "code",
   "execution_count": null,
   "metadata": {},
   "outputs": [],
   "source": []
  }
 ],
 "metadata": {
  "kernelspec": {
   "display_name": "Python 3",
   "language": "python",
   "name": "python3"
  },
  "language_info": {
   "codemirror_mode": {
    "name": "ipython",
    "version": 3
   },
   "file_extension": ".py",
   "mimetype": "text/x-python",
   "name": "python",
   "nbconvert_exporter": "python",
   "pygments_lexer": "ipython3",
   "version": "3.7.6"
  }
 },
 "nbformat": 4,
 "nbformat_minor": 4
}
